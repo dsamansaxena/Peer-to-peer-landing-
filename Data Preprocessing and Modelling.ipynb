{
 "cells": [
  {
   "cell_type": "markdown",
   "id": "2624e2a5",
   "metadata": {},
   "source": [
    "# ____________________________________________________\n",
    "# PHASE II : FEATURE ENGINEERING AND MODEL BUILDING\n",
    "# ____________________________________________________\n",
    "# "
   ]
  },
  {
   "cell_type": "markdown",
   "id": "4fc741b7",
   "metadata": {},
   "source": [
    "# IMPORTING LIBRARIES\n",
    "##### "
   ]
  },
  {
   "cell_type": "code",
   "execution_count": 1,
   "id": "a5e17d00",
   "metadata": {},
   "outputs": [],
   "source": [
    "import numpy as np\n",
    "import pandas as pd\n",
    "import warnings\n",
    "warnings.simplefilter(\"ignore\")\n",
    "import matplotlib.pyplot as plt\n",
    "import seaborn as sns\n",
    "import scipy.stats as stats\n",
    "from sklearn.model_selection import train_test_split,GridSearchCV,StratifiedKFold\n",
    "from statsmodels.api import Logit\n",
    "from sklearn.linear_model import LogisticRegression,RidgeClassifier\n",
    "from sklearn.tree import DecisionTreeClassifier\n",
    "from sklearn.ensemble import AdaBoostClassifier , GradientBoostingClassifier , RandomForestClassifier\n",
    "from xgboost import XGBClassifier\n",
    "from sklearn.naive_bayes import GaussianNB\n",
    "from catboost import CatBoostClassifier\n",
    "from sklearn.metrics import f1_score,recall_score,precision_score,accuracy_score,classification_report,confusion_matrix\n",
    "from sklearn.metrics import roc_auc_score, roc_curve"
   ]
  },
  {
   "cell_type": "markdown",
   "id": "5dc69499",
   "metadata": {},
   "source": [
    "# INITIATING MACHINE INSTANCES"
   ]
  },
  {
   "cell_type": "code",
   "execution_count": 26,
   "id": "b7e0500f",
   "metadata": {},
   "outputs": [],
   "source": [
    "lr,rg,dt,rf,ad,gb,xg,gn,ca = LogisticRegression(),RidgeClassifier(),DecisionTreeClassifier(),RandomForestClassifier(),AdaBoostClassifier(),\\\n",
    "GradientBoostingClassifier(),XGBClassifier(),GaussianNB(),CatBoostClassifier(verbose=0)"
   ]
  },
  {
   "cell_type": "code",
   "execution_count": 7,
   "id": "f082f05c",
   "metadata": {},
   "outputs": [],
   "source": [
    "# Using data of 2017 and 2018\n",
    "\n",
    "df = pd.concat((pd.read_csv(\"df2017.csv\"),pd.read_csv(\"df2018.csv\")),ignore_index=True)"
   ]
  },
  {
   "cell_type": "markdown",
   "id": "d2294d45",
   "metadata": {},
   "source": [
    "# DROPPING COLUMNS THAT ARE CREATING DATA LEAKAGE AND ARE IRRELEVANT TO THE TARGET (ALREADY DONE IN THE PHASE 1 EDA)"
   ]
  },
  {
   "cell_type": "code",
   "execution_count": 8,
   "id": "2067898c",
   "metadata": {},
   "outputs": [],
   "source": [
    "df.drop(columns = ['int_rate','installment','zip_code','last_pymnt_d','last_credit_pull_d','earliest_cr_line','policy_code',\\\n",
    "                   'title','issue_d','application_type','pymnt_plan','Unnamed: 0','sub_grade','out_prncp','out_prncp_inv',\\\n",
    "                   'grade','recoveries','collection_recovery_fee','total_rec_prncp','last_pymnt_amnt','debt_settlement_flag',\\\n",
    "                  'delinq_amnt','tot_coll_amt','total_pymnt','total_pymnt_inv'],inplace=True)"
   ]
  },
  {
   "cell_type": "markdown",
   "id": "b22be3bc",
   "metadata": {},
   "source": [
    "# "
   ]
  },
  {
   "cell_type": "markdown",
   "id": "e4937149",
   "metadata": {},
   "source": [
    "\n",
    "# FEATURE ENGINEERING"
   ]
  },
  {
   "cell_type": "markdown",
   "id": "bbbac90f",
   "metadata": {},
   "source": [
    "# "
   ]
  },
  {
   "cell_type": "markdown",
   "id": "5796b21e",
   "metadata": {},
   "source": [
    "## FEATURE 1\n",
    "### fico_avg_score: Fico high and fico low scores of each applicant was provided in the dataset. The average of it was taken and the field was named fico_avg_score. While making predictions, Fico Score is taken as input."
   ]
  },
  {
   "cell_type": "code",
   "execution_count": 9,
   "id": "d360a833",
   "metadata": {},
   "outputs": [],
   "source": [
    "# FICO AVERAGE\n",
    "\n",
    "df['fico_avg'] = (df.fico_range_high + df.fico_range_low)/2\n",
    "df['last_fico_avg'] = (df.last_fico_range_high + df.last_fico_range_low)/2\n",
    "df.drop(['fico_range_high', 'fico_range_low','last_fico_range_high','last_fico_range_low'], axis = 1,inplace=True)"
   ]
  },
  {
   "cell_type": "markdown",
   "id": "b551c8d4",
   "metadata": {},
   "source": [
    "## FEATURE 2\n",
    "### It is the combination of all the features related to the number of accounts of an individual in different categories."
   ]
  },
  {
   "cell_type": "code",
   "execution_count": 10,
   "id": "13c09c21",
   "metadata": {},
   "outputs": [],
   "source": [
    "# FEATURE 2\n",
    "\n",
    "cols_acc2 = ['num_accts_ever_120_pd', 'num_actv_bc_tl','num_actv_rev_tl','num_bc_sats',\n",
    "            'num_il_tl','num_op_rev_tl','num_rev_accts','num_rev_tl_bal_gt_0','num_sats',\n",
    "            'num_tl_90g_dpd_24m','num_tl_op_past_12m']\n",
    "\n",
    "df['numb_col_val'] = 0\n",
    "\n",
    "for i in cols_acc2:\n",
    "    df['numb_col_val'] = df['numb_col_val'] + df[i]\n",
    "\n",
    "df.drop(cols_acc2, axis = 1,inplace=True)"
   ]
  },
  {
   "cell_type": "markdown",
   "id": "b99ec46b",
   "metadata": {},
   "source": [
    "## FEATURE 3\n",
    "### income_to_loan_ratio:  This is the ratio between the loan amount issued and the annual income of the applicant. [income_to_loan_ratio: annual_inc/ loan_amount ]"
   ]
  },
  {
   "cell_type": "code",
   "execution_count": 11,
   "id": "c23d9bea",
   "metadata": {},
   "outputs": [],
   "source": [
    "# FEATURE 3\n",
    "\n",
    "df['inc_to_loan_ratio'] = df.annual_inc/df.loan_amnt"
   ]
  },
  {
   "cell_type": "markdown",
   "id": "9ede4b84",
   "metadata": {},
   "source": [
    "## FEATURE 4\n",
    "### credit_line_ratio: This is the ratio between open credit lines in the borrower’s file and the total number of credit lines ever opened in the borrower’s file. [credit_line_ratio = open_acc / total_acc]"
   ]
  },
  {
   "cell_type": "code",
   "execution_count": 12,
   "id": "4fbb2853",
   "metadata": {},
   "outputs": [],
   "source": [
    "# FEATURE 4\n",
    "\n",
    "df = df[df.open_acc!=0]\n",
    "df['credit_line_ratio'] = df.total_acc/df.open_acc\n",
    "del df[\"total_acc\"],df[\"open_acc\"]"
   ]
  },
  {
   "cell_type": "markdown",
   "id": "eb2c16d3",
   "metadata": {},
   "source": [
    "## FEATURE 5\n",
    "### It is an approximate income left with the individual after the person paid the principle amount of the loan for that year."
   ]
  },
  {
   "cell_type": "code",
   "execution_count": 13,
   "id": "a4bf5d3b",
   "metadata": {},
   "outputs": [],
   "source": [
    "# FEATURE 5\n",
    "\n",
    "df['disposable_inc'] = np.where(df.term == '36 months', (df.annual_inc - df.loan_amnt/3), (df.annual_inc - df.loan_amnt/5))"
   ]
  },
  {
   "cell_type": "markdown",
   "id": "5ecab882",
   "metadata": {},
   "source": [
    "## FEATURE 6\n",
    "### Dividing the states on the basis of their geographic location."
   ]
  },
  {
   "cell_type": "code",
   "execution_count": 14,
   "id": "a3497f46",
   "metadata": {},
   "outputs": [],
   "source": [
    "state_to_region = {\n",
    "    'CT': 'Northeast',\n",
    "    'ME': 'Northeast',\n",
    "    'MA': 'Northeast',\n",
    "    'NH': 'Northeast',\n",
    "    'RI': 'Northeast',\n",
    "    'VT': 'Northeast',\n",
    "    'NJ': 'Northeast',\n",
    "    'NY': 'Northeast',\n",
    "    'PA': 'Northeast',\n",
    "    'IL': 'Midwest',\n",
    "    'IN': 'Midwest',\n",
    "    'MI': 'Midwest',\n",
    "    'OH': 'Midwest',\n",
    "    'WI': 'Midwest',\n",
    "    'IA': 'Midwest',\n",
    "    'KS': 'Midwest',\n",
    "    'MN': 'Midwest',\n",
    "    'MO': 'Midwest',\n",
    "    'NE': 'Midwest',\n",
    "    'ND': 'Midwest',\n",
    "    'SD': 'Midwest',\n",
    "    'DE': 'South',\n",
    "    'FL': 'South',\n",
    "    'GA': 'South',\n",
    "    'MD': 'South',\n",
    "    'NC': 'South',\n",
    "    'SC': 'South',\n",
    "    'VA': 'South',\n",
    "    'DC': 'South',\n",
    "    'WV': 'South',\n",
    "    'AL': 'South',\n",
    "    'KY': 'South',\n",
    "    'MS': 'South',\n",
    "    'TN': 'South',\n",
    "    'AR': 'South',\n",
    "    'LA': 'South',\n",
    "    'OK': 'South',\n",
    "    'TX': 'South',\n",
    "    'AZ': 'West',\n",
    "    'CO': 'West',\n",
    "    'ID': 'West',\n",
    "    'MT': 'West',\n",
    "    'NV': 'West',\n",
    "    'NM': 'West',\n",
    "    'UT': 'West',\n",
    "    'WY': 'West',\n",
    "    'AK': 'West',\n",
    "    'CA': 'West',\n",
    "    'HI': 'West',\n",
    "    'OR': 'West',\n",
    "    'WA': 'West'\n",
    "}\n",
    "\n",
    "# Map the 'addr_state' variable to regions using the state_to_region dictionary\n",
    "df['addr_state'] = df['addr_state'].map(state_to_region)"
   ]
  },
  {
   "cell_type": "markdown",
   "id": "0a3d03df",
   "metadata": {},
   "source": [
    "# "
   ]
  },
  {
   "cell_type": "markdown",
   "id": "18b70e1d",
   "metadata": {},
   "source": [
    "\n",
    "# STATISTICAL ANALYSIS"
   ]
  },
  {
   "cell_type": "markdown",
   "id": "1a3fd5dc",
   "metadata": {},
   "source": [
    "# "
   ]
  },
  {
   "cell_type": "markdown",
   "id": "146ebccf",
   "metadata": {},
   "source": [
    "### FOR NUMERICAL COLUMNS   -----> TWO SAMPLE TTEST\n",
    "### FOR CATEGORICAL COLUMNS -----> CHI2_CONTINGENCY TEST"
   ]
  },
  {
   "cell_type": "code",
   "execution_count": 15,
   "id": "e633b04e",
   "metadata": {},
   "outputs": [
    {
     "name": "stdout",
     "output_type": "stream",
     "text": [
      "THE LIST OF INSIGNIFICANT COLUMNS ------> ['initial_list_status', 'acc_now_delinq', 'num_tl_120dpd_2m', 'num_tl_30dpd']\n"
     ]
    }
   ],
   "source": [
    "li = []\n",
    "for i in df.columns:\n",
    "    if df[i].dtype==object:\n",
    "        if stats.chi2_contingency(pd.crosstab(df.loan_status,df[i]))[1]>0.05:\n",
    "            li.append(i)\n",
    "    else:\n",
    "        one = df[df.loan_status=='Charged Off'][i]\n",
    "        zero = df[df.loan_status=='Fully Paid'][i]\n",
    "        if stats.ttest_ind(zero,one)[1]>0.05:\n",
    "            li.append(i)\n",
    "print('THE LIST OF INSIGNIFICANT COLUMNS ------>',li)"
   ]
  },
  {
   "cell_type": "markdown",
   "id": "f60b6844",
   "metadata": {},
   "source": [
    "## DROPPING THE STATISTICALLY INSIGNIFICANT FEATURES"
   ]
  },
  {
   "cell_type": "code",
   "execution_count": 16,
   "id": "1eace99d",
   "metadata": {},
   "outputs": [],
   "source": [
    "df.drop(columns=li,inplace=True)"
   ]
  },
  {
   "cell_type": "markdown",
   "id": "f922c801",
   "metadata": {},
   "source": [
    "## SPLTTING THE DATA INTO TRAIN AND TEST"
   ]
  },
  {
   "cell_type": "code",
   "execution_count": 17,
   "id": "7fabd8a1",
   "metadata": {},
   "outputs": [],
   "source": [
    "from sklearn.model_selection import train_test_split as t\n",
    "\n",
    "X = df.drop('loan_status',axis=1)\n",
    "y = pd.Series(np.where(df.loan_status=='Fully Paid',0,1))\n",
    "xtrain,xtest,ytrain,ytest = t(X,y,test_size=0.30,stratify=y,random_state=7) "
   ]
  },
  {
   "cell_type": "markdown",
   "id": "1fcf5eda",
   "metadata": {},
   "source": [
    "## Using log transformation loan_amnt to reduce the impact of extreme valueus and normalize its distribution."
   ]
  },
  {
   "cell_type": "code",
   "execution_count": 18,
   "id": "aba08c4c",
   "metadata": {},
   "outputs": [],
   "source": [
    "df.annual_inc = np.log(df.annual_inc)\n",
    "df.revol_bal  = stats.yeojohnson(df.revol_bal)[0]"
   ]
  },
  {
   "cell_type": "code",
   "execution_count": 19,
   "id": "b25c825f",
   "metadata": {},
   "outputs": [],
   "source": [
    "df.disposable_inc = np.log(df.disposable_inc)"
   ]
  },
  {
   "cell_type": "code",
   "execution_count": 20,
   "id": "7018929f",
   "metadata": {},
   "outputs": [],
   "source": [
    "df.credit_line_ratio = np.log(df.credit_line_ratio)"
   ]
  },
  {
   "cell_type": "code",
   "execution_count": 21,
   "id": "48fc7948",
   "metadata": {},
   "outputs": [],
   "source": [
    "df.inc_to_loan_ratio = stats.yeojohnson(df.inc_to_loan_ratio)[0]"
   ]
  },
  {
   "cell_type": "markdown",
   "id": "cb926b8b",
   "metadata": {},
   "source": [
    "### By applying min-max scaling, we can transform the features to a similar scale and range. This can help the model to learn from all the features equally, and prevent the larger-scale features from dominating the model. This can lead to better model performance and generalization."
   ]
  },
  {
   "cell_type": "code",
   "execution_count": 22,
   "id": "01a2a746",
   "metadata": {},
   "outputs": [],
   "source": [
    "from sklearn.preprocessing import StandardScaler\n",
    "sc = StandardScaler()\n",
    "for i in df.select_dtypes(np.number).columns:\n",
    "    xtrain[i] = sc.fit_transform(pd.DataFrame(xtrain[i]))\n",
    "    xtest[i]  = sc.transform(pd.DataFrame(xtest[i]))"
   ]
  },
  {
   "cell_type": "markdown",
   "id": "79f1e26a",
   "metadata": {},
   "source": [
    "## Encoding the categorical features\n",
    "### Factorize encoding can be useful because many of the features are categorical variables that have no inherent order or numerical meaning."
   ]
  },
  {
   "cell_type": "code",
   "execution_count": 23,
   "id": "39e56954",
   "metadata": {},
   "outputs": [],
   "source": [
    "for i in xtrain.select_dtypes('O'):\n",
    "    xtrain[i] = pd.factorize(xtrain[i])[0]\n",
    "    xtest[i]  = pd.factorize(xtest[i])[0]"
   ]
  },
  {
   "cell_type": "markdown",
   "id": "90ef6542",
   "metadata": {},
   "source": [
    "### CHECKING FOR IMBALANCE IN THE DATA"
   ]
  },
  {
   "cell_type": "code",
   "execution_count": 24,
   "id": "62a0223f",
   "metadata": {},
   "outputs": [
    {
     "data": {
      "text/plain": [
       "0    0.782937\n",
       "1    0.217063\n",
       "dtype: float64"
      ]
     },
     "execution_count": 24,
     "metadata": {},
     "output_type": "execute_result"
    }
   ],
   "source": [
    "# CHECKING FOR IMBALANCE IN TRAIN DATA\n",
    "\n",
    "ytrain.value_counts(normalize=True)"
   ]
  },
  {
   "cell_type": "markdown",
   "id": "bb6068fe",
   "metadata": {},
   "source": [
    "### AdaSyn is a resampling technique that can be used to address class imbalance in datasets, particularly in binary classification problems where the number of examples in one class (e.g., defaulters) is much smaller than the other class (e.g., non-defaulters)."
   ]
  },
  {
   "cell_type": "code",
   "execution_count": 25,
   "id": "af165099",
   "metadata": {},
   "outputs": [],
   "source": [
    "# FIXING THE IMBALANCE USING ADASYN OVER-SAMPLING TECHNIQUE\n",
    "\n",
    "from imblearn.over_sampling import ADASYN\n",
    "\n",
    "a = ADASYN()\n",
    "xtrain,ytrain = a.fit_resample(xtrain,ytrain)"
   ]
  },
  {
   "cell_type": "code",
   "execution_count": 27,
   "id": "9cbaebe6",
   "metadata": {},
   "outputs": [
    {
     "data": {
      "text/plain": [
       "0    0.509425\n",
       "1    0.490575\n",
       "dtype: float64"
      ]
     },
     "execution_count": 27,
     "metadata": {},
     "output_type": "execute_result"
    }
   ],
   "source": [
    "# CHECKING IF THE IMBALANCE IS FIXED\n",
    "\n",
    "ytrain.value_counts(normalize=True)\n",
    "\n",
    "# Fixed"
   ]
  },
  {
   "cell_type": "markdown",
   "id": "d9303173",
   "metadata": {},
   "source": [
    "## CREATING A FUNCTION TO EVALUATE THE PREDICTIONS ON BOTH TRAINING AND TESTING DATA"
   ]
  },
  {
   "cell_type": "code",
   "execution_count": 33,
   "id": "7c956fd9",
   "metadata": {},
   "outputs": [],
   "source": [
    "def model_info(X_train, X_test, y_train, y_test):\n",
    "    li1,li2=[],[]\n",
    "    for model in [lr,rg,dt,rf,gn,ad,gb,xg,ca]:\n",
    "        model.fit(X_train, y_train)\n",
    "        X_train_pred = model.predict(X_train)\n",
    "        X_test_pred = model.predict(X_test)\n",
    "        li1.append([accuracy_score(y_train, X_train_pred),precision_score(y_train, X_train_pred),\\\n",
    "        recall_score(y_train, X_train_pred),f1_score(y_train, X_train_pred),roc_auc_score(y_train,X_train_pred)])\n",
    "        li2.append([accuracy_score(y_test, X_test_pred),precision_score(y_test, X_test_pred),\\\n",
    "        recall_score(y_test, X_test_pred),f1_score(y_test, X_test_pred),roc_auc_score(y_test,X_test_pred)])\n",
    "        global metric\n",
    "        metric = []\n",
    "        metric.append([li1,li2])"
   ]
  },
  {
   "cell_type": "markdown",
   "id": "e13ebddb",
   "metadata": {},
   "source": [
    "# BUILDING MODELS AND EVALUATING ON THE BASIS OF MODEL METRICS"
   ]
  },
  {
   "cell_type": "code",
   "execution_count": 34,
   "id": "98a92499",
   "metadata": {
    "scrolled": true
   },
   "outputs": [],
   "source": [
    "model_info(xtrain,xtest,ytrain,ytest)"
   ]
  },
  {
   "cell_type": "code",
   "execution_count": 35,
   "id": "d7f4d45e",
   "metadata": {},
   "outputs": [
    {
     "data": {
      "text/html": [
       "<div>\n",
       "<style scoped>\n",
       "    .dataframe tbody tr th:only-of-type {\n",
       "        vertical-align: middle;\n",
       "    }\n",
       "\n",
       "    .dataframe tbody tr th {\n",
       "        vertical-align: top;\n",
       "    }\n",
       "\n",
       "    .dataframe thead th {\n",
       "        text-align: right;\n",
       "    }\n",
       "</style>\n",
       "<table border=\"1\" class=\"dataframe\">\n",
       "  <thead>\n",
       "    <tr style=\"text-align: right;\">\n",
       "      <th></th>\n",
       "      <th>Accuracy</th>\n",
       "      <th>Precision</th>\n",
       "      <th>Recall</th>\n",
       "      <th>F1</th>\n",
       "      <th>ROC AUC</th>\n",
       "    </tr>\n",
       "  </thead>\n",
       "  <tbody>\n",
       "    <tr>\n",
       "      <th>Logistic RegressionTrain</th>\n",
       "      <td>0.931659</td>\n",
       "      <td>0.927860</td>\n",
       "      <td>0.933251</td>\n",
       "      <td>0.930548</td>\n",
       "      <td>0.931688</td>\n",
       "    </tr>\n",
       "    <tr>\n",
       "      <th>Logistic RegressionTest</th>\n",
       "      <td>0.924075</td>\n",
       "      <td>0.775589</td>\n",
       "      <td>0.914950</td>\n",
       "      <td>0.839525</td>\n",
       "      <td>0.920777</td>\n",
       "    </tr>\n",
       "    <tr>\n",
       "      <th>Ridge ClassifierTrain</th>\n",
       "      <td>0.926553</td>\n",
       "      <td>0.933961</td>\n",
       "      <td>0.914982</td>\n",
       "      <td>0.924374</td>\n",
       "      <td>0.926339</td>\n",
       "    </tr>\n",
       "    <tr>\n",
       "      <th>Ridge ClassifierTest</th>\n",
       "      <td>0.925285</td>\n",
       "      <td>0.793391</td>\n",
       "      <td>0.886700</td>\n",
       "      <td>0.837454</td>\n",
       "      <td>0.911341</td>\n",
       "    </tr>\n",
       "    <tr>\n",
       "      <th>Decision Tree ClassifierTrain</th>\n",
       "      <td>1.000000</td>\n",
       "      <td>1.000000</td>\n",
       "      <td>1.000000</td>\n",
       "      <td>1.000000</td>\n",
       "      <td>1.000000</td>\n",
       "    </tr>\n",
       "    <tr>\n",
       "      <th>Decision Tree ClassifierTest</th>\n",
       "      <td>0.898083</td>\n",
       "      <td>0.752801</td>\n",
       "      <td>0.789829</td>\n",
       "      <td>0.770870</td>\n",
       "      <td>0.858962</td>\n",
       "    </tr>\n",
       "    <tr>\n",
       "      <th>Random Forest ClassifierTrain</th>\n",
       "      <td>0.999988</td>\n",
       "      <td>0.999992</td>\n",
       "      <td>0.999984</td>\n",
       "      <td>0.999988</td>\n",
       "      <td>0.999988</td>\n",
       "    </tr>\n",
       "    <tr>\n",
       "      <th>Random Forest ClassifierTest</th>\n",
       "      <td>0.932758</td>\n",
       "      <td>0.810547</td>\n",
       "      <td>0.900758</td>\n",
       "      <td>0.853275</td>\n",
       "      <td>0.921194</td>\n",
       "    </tr>\n",
       "    <tr>\n",
       "      <th>Gaussian Naive BayesTrain</th>\n",
       "      <td>0.805869</td>\n",
       "      <td>0.785115</td>\n",
       "      <td>0.831996</td>\n",
       "      <td>0.807876</td>\n",
       "      <td>0.806353</td>\n",
       "    </tr>\n",
       "    <tr>\n",
       "      <th>Gaussian Naive BayesTest</th>\n",
       "      <td>0.774544</td>\n",
       "      <td>0.488151</td>\n",
       "      <td>0.796507</td>\n",
       "      <td>0.605322</td>\n",
       "      <td>0.782481</td>\n",
       "    </tr>\n",
       "    <tr>\n",
       "      <th>Adaboost ClassifierTrain</th>\n",
       "      <td>0.938355</td>\n",
       "      <td>0.930619</td>\n",
       "      <td>0.944779</td>\n",
       "      <td>0.937645</td>\n",
       "      <td>0.938474</td>\n",
       "    </tr>\n",
       "    <tr>\n",
       "      <th>Adaboost ClassifierTest</th>\n",
       "      <td>0.924300</td>\n",
       "      <td>0.782202</td>\n",
       "      <td>0.902561</td>\n",
       "      <td>0.838083</td>\n",
       "      <td>0.916444</td>\n",
       "    </tr>\n",
       "    <tr>\n",
       "      <th>Gradient Boosting ClassifierTrain</th>\n",
       "      <td>0.949300</td>\n",
       "      <td>0.941011</td>\n",
       "      <td>0.956620</td>\n",
       "      <td>0.948751</td>\n",
       "      <td>0.949435</td>\n",
       "    </tr>\n",
       "    <tr>\n",
       "      <th>Gradient Boosting ClassifierTest</th>\n",
       "      <td>0.931432</td>\n",
       "      <td>0.807069</td>\n",
       "      <td>0.899022</td>\n",
       "      <td>0.850567</td>\n",
       "      <td>0.919719</td>\n",
       "    </tr>\n",
       "    <tr>\n",
       "      <th>XGBoost ClassifierTrain</th>\n",
       "      <td>0.964930</td>\n",
       "      <td>0.960731</td>\n",
       "      <td>0.968082</td>\n",
       "      <td>0.964393</td>\n",
       "      <td>0.964988</td>\n",
       "    </tr>\n",
       "    <tr>\n",
       "      <th>XGBoost ClassifierTest</th>\n",
       "      <td>0.939376</td>\n",
       "      <td>0.850135</td>\n",
       "      <td>0.874946</td>\n",
       "      <td>0.862362</td>\n",
       "      <td>0.916092</td>\n",
       "    </tr>\n",
       "    <tr>\n",
       "      <th>CatBoostClassifierTrain</th>\n",
       "      <td>0.967509</td>\n",
       "      <td>0.963708</td>\n",
       "      <td>0.970311</td>\n",
       "      <td>0.966998</td>\n",
       "      <td>0.967561</td>\n",
       "    </tr>\n",
       "    <tr>\n",
       "      <th>CatBoostClassifierTest</th>\n",
       "      <td>0.939673</td>\n",
       "      <td>0.852619</td>\n",
       "      <td>0.872976</td>\n",
       "      <td>0.862677</td>\n",
       "      <td>0.915570</td>\n",
       "    </tr>\n",
       "  </tbody>\n",
       "</table>\n",
       "</div>"
      ],
      "text/plain": [
       "                                   Accuracy  Precision    Recall        F1  \\\n",
       "Logistic RegressionTrain           0.931659   0.927860  0.933251  0.930548   \n",
       "Logistic RegressionTest            0.924075   0.775589  0.914950  0.839525   \n",
       "Ridge ClassifierTrain              0.926553   0.933961  0.914982  0.924374   \n",
       "Ridge ClassifierTest               0.925285   0.793391  0.886700  0.837454   \n",
       "Decision Tree ClassifierTrain      1.000000   1.000000  1.000000  1.000000   \n",
       "Decision Tree ClassifierTest       0.898083   0.752801  0.789829  0.770870   \n",
       "Random Forest ClassifierTrain      0.999988   0.999992  0.999984  0.999988   \n",
       "Random Forest ClassifierTest       0.932758   0.810547  0.900758  0.853275   \n",
       "Gaussian Naive BayesTrain          0.805869   0.785115  0.831996  0.807876   \n",
       "Gaussian Naive BayesTest           0.774544   0.488151  0.796507  0.605322   \n",
       "Adaboost ClassifierTrain           0.938355   0.930619  0.944779  0.937645   \n",
       "Adaboost ClassifierTest            0.924300   0.782202  0.902561  0.838083   \n",
       "Gradient Boosting ClassifierTrain  0.949300   0.941011  0.956620  0.948751   \n",
       "Gradient Boosting ClassifierTest   0.931432   0.807069  0.899022  0.850567   \n",
       "XGBoost ClassifierTrain            0.964930   0.960731  0.968082  0.964393   \n",
       "XGBoost ClassifierTest             0.939376   0.850135  0.874946  0.862362   \n",
       "CatBoostClassifierTrain            0.967509   0.963708  0.970311  0.966998   \n",
       "CatBoostClassifierTest             0.939673   0.852619  0.872976  0.862677   \n",
       "\n",
       "                                    ROC AUC  \n",
       "Logistic RegressionTrain           0.931688  \n",
       "Logistic RegressionTest            0.920777  \n",
       "Ridge ClassifierTrain              0.926339  \n",
       "Ridge ClassifierTest               0.911341  \n",
       "Decision Tree ClassifierTrain      1.000000  \n",
       "Decision Tree ClassifierTest       0.858962  \n",
       "Random Forest ClassifierTrain      0.999988  \n",
       "Random Forest ClassifierTest       0.921194  \n",
       "Gaussian Naive BayesTrain          0.806353  \n",
       "Gaussian Naive BayesTest           0.782481  \n",
       "Adaboost ClassifierTrain           0.938474  \n",
       "Adaboost ClassifierTest            0.916444  \n",
       "Gradient Boosting ClassifierTrain  0.949435  \n",
       "Gradient Boosting ClassifierTest   0.919719  \n",
       "XGBoost ClassifierTrain            0.964988  \n",
       "XGBoost ClassifierTest             0.916092  \n",
       "CatBoostClassifierTrain            0.967561  \n",
       "CatBoostClassifierTest             0.915570  "
      ]
     },
     "execution_count": 35,
     "metadata": {},
     "output_type": "execute_result"
    }
   ],
   "source": [
    "# Creating DataFrame of model performances\n",
    "\n",
    "metrics = np.array(metric).reshape((2,9,5))\n",
    "evaluation = pd.DataFrame(columns=['Accuracy','Precision','Recall','F1','ROC AUC'])\n",
    "li = ['Logistic Regression','Ridge Classifier','Decision Tree Classifier','Random Forest Classifier',\\\n",
    "       'Gaussian Naive Bayes','Adaboost Classifier','Gradient Boosting Classifier','XGBoost Classifier','CatBoostClassifier']\n",
    "for i in range(9):\n",
    "    eval_df = pd.DataFrame({'Logistic Regression Train':list(metrics[0][i]),\\\n",
    "                     'Logistic Regression Test':list(metrics[1][i])},index=['Accuracy','Precision','Recall','F1',\\\n",
    "                                                                                      'ROC AUC']).T\n",
    "    eval_df.index = [li[i]+'Train',li[i]+'Test']\n",
    "    evaluation = pd.concat((evaluation,eval_df))\n",
    "evaluation"
   ]
  },
  {
   "cell_type": "markdown",
   "id": "64e23154",
   "metadata": {
    "scrolled": false
   },
   "source": [
    "## LOGISTIC REGRESSION MODEL"
   ]
  },
  {
   "cell_type": "markdown",
   "id": "bb1922bc",
   "metadata": {},
   "source": [
    "### INFERENCES :\n",
    "\n",
    "* The precision on the test set is 77%, which means that out of all the predicted positive cases, only 77% are actually positive. This suggests that the model has a high false positive rate on the test set.\n",
    "\n",
    "* The recall on the test set is 91%, which means that out of all the actual positive cases, the model correctly identifies 91% of them. This suggests that the model has a lower false negative rate on the test set.\n",
    "\n",
    "* The F1 score on the test set is83%, which is the harmonic mean of precision and recall. It suggests that the model is performing well on both precision and recall, but there is room for improvement."
   ]
  },
  {
   "cell_type": "markdown",
   "id": "1f1fafc7",
   "metadata": {},
   "source": [
    "# For DT and RF: both of them are overfitting."
   ]
  },
  {
   "cell_type": "markdown",
   "id": "2b703edd",
   "metadata": {},
   "source": [
    "# NAIVE BAYES"
   ]
  },
  {
   "cell_type": "markdown",
   "id": "28c6b027",
   "metadata": {},
   "source": [
    "### INFERENCES :\n",
    "\n",
    "* The precision on the test set is 48%, which means that out of all the predicted positive cases, 48% are actually positive. This suggests that the model has a very high false positive rate on the test set.\n",
    "\n",
    "* The recall on the test set is 79%, which means that out of all the actual positive cases, the model correctly identifies 79% of them. This suggests that the model has a moderate false negative rate on the test set.\n",
    "\n",
    "* The F1 score on the test set is 60%, which is the harmonic mean of precision and recall. It suggests that the model is not performing well on both precision and recall, and hence, there is some room for improvement.\n",
    "\n",
    "* On the other hand, the model's performance on the training set is also good with a precision of 80%, recall of 78%, and an F1 score of 83%. This suggests that the model is performing well on the training set and is overfitting."
   ]
  },
  {
   "cell_type": "markdown",
   "id": "54818aa8",
   "metadata": {},
   "source": [
    "## THE BEST MODEL WITH BASE PARAMETERS IS XGBOOST CLASSIFIER, SO FOR FINAL MODEL WE WILL TUNE IT AND BUILD THE TUNED MODEL."
   ]
  },
  {
   "cell_type": "code",
   "execution_count": 42,
   "id": "7bb4cff4",
   "metadata": {
    "scrolled": true
   },
   "outputs": [
    {
     "name": "stdout",
     "output_type": "stream",
     "text": [
      "\n",
      "\n",
      "METRICS FOR Train\n",
      "-----------------\n",
      "Accuracy         : 0.9649300460430841\n",
      "Precision        : 0.9607312395991348\n",
      "Recall           : 0.9680817752581228\n",
      "ROC AUC Score    : 0.9649883562848303\n",
      "F1 Score         : 0.9643925013082693\n",
      "\n",
      "\n",
      "\n",
      "METRICS FOR Test\n",
      "----------------\n",
      "Accuracy         : 0.9393759286775631\n",
      "Precision        : 0.8501346484539762\n",
      "Recall           : 0.8749457374695295\n",
      "ROC AUC Score    : 0.9160921729248072\n",
      "F1 Score         : 0.8623617693522907\n"
     ]
    }
   ],
   "source": [
    "#xg = XGBClassifier()\n",
    "#cv = StratifiedKFold(n_splits=5,shuffle=True)\n",
    "#gs = GridSearchCV(estimator=xg,param_grid={'learning_rate':[0.1*i for i in range(1,11)],'max_depth':[2,3,4,5]},scoring='f1',cv=cv,verbose=3)\n",
    "#gs.fit(xtrain,ytrain)\n",
    "#print('BEST PARAMETERS :',gs.best_params_)\n",
    "xg = XGBClassifier()\n",
    "model = xg.fit(xtrain,ytrain)\n",
    "pred_train = model.predict(xtrain)\n",
    "pred_test = model.predict(xtest)\n",
    "print('\\n')\n",
    "print('METRICS FOR Train')\n",
    "print('-----------------')\n",
    "print('Accuracy         :',accuracy_score(ytrain,pred_train))\n",
    "print('Precision        :',precision_score(ytrain,pred_train))\n",
    "print('Recall           :',recall_score(ytrain,pred_train))\n",
    "print('ROC AUC Score    :',roc_auc_score(ytrain,pred_train))\n",
    "print('F1 Score         :',f1_score(ytrain,pred_train))\n",
    "print('\\n\\n')\n",
    "print('METRICS FOR Test')\n",
    "print('----------------')\n",
    "print('Accuracy         :',accuracy_score(ytest,pred_test))\n",
    "print('Precision        :',precision_score(ytest,pred_test))\n",
    "print('Recall           :',recall_score(ytest,pred_test))\n",
    "print('ROC AUC Score    :',roc_auc_score(ytest,pred_test))\n",
    "print('F1 Score         :',f1_score(ytest,pred_test))"
   ]
  },
  {
   "cell_type": "markdown",
   "id": "34712fd7",
   "metadata": {},
   "source": [
    "## \n",
    "# FINAL MODEL ----> XGBCLASSIFIER WITH DEFAULT PARAMETERS\n",
    "## "
   ]
  },
  {
   "cell_type": "code",
   "execution_count": 45,
   "id": "cbfa3a2c",
   "metadata": {},
   "outputs": [
    {
     "data": {
      "image/png": "[encoded data removed]",
      "text/plain": [
       "<Figure size 1500x500 with 1 Axes>"
      ]
     },
     "metadata": {},
     "output_type": "display_data"
    }
   ],
   "source": [
    "plt.figure(figsize=(15,5))\n",
    "plt.bar(xtrain.columns,xg.feature_importances_)\n",
    "plt.xticks(rotation=90)\n",
    "plt.show()"
   ]
  },
  {
   "cell_type": "code",
   "execution_count": 46,
   "id": "ad389adc",
   "metadata": {},
   "outputs": [],
   "source": [
    "# Most important feature as per the model was last fico average and inquiry in last 6 months."
   ]
  }
 ],
 "metadata": {
  "kernelspec": {
   "display_name": "Python 3 (ipykernel)",
   "language": "python",
   "name": "python3"
  },
  "language_info": {
   "codemirror_mode": {
    "name": "ipython",
    "version": 3
   },
   "file_extension": ".py",
   "mimetype": "text/x-python",
   "name": "python",
   "nbconvert_exporter": "python",
   "pygments_lexer": "ipython3",
   "version": "3.9.13"
  }
 },
 "nbformat": 4,
 "nbformat_minor": 5
}
